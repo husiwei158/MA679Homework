{
 "cells": [
  {
   "cell_type": "markdown",
   "metadata": {},
   "source": [
    "# Chapter exercise3 from ISLR book"
   ]
  },
  {
   "cell_type": "markdown",
   "metadata": {},
   "source": [
    "## Exercise 3.1\n",
    "'''\n",
    "The null hypotheses to Intercept is that means Except the benefit from the TV, radio and newspaper , other benefit – other budget is larger than 0, which rejects the H_0 which is cost = budget in more than 99%.\n",
    "\n",
    "The null hypotheses to TV is that the benefit of TV ads possibility not equal than the budget of TV ads. There exists more than 99% possibility that benefit of TV ads is not equal than cost of it.\n",
    "\n",
    "The null hypotheses to Radio is that the benefit of radio ads possibility not equal than the budget of radio ads. There exists more than 99% possibility that benefit of radio ads is not equal than cost of it.\n",
    "\n",
    "The null hypotheses to newspaper is that the benefit of newspaper ads possibility not equal than the budget of newspaper ads. There exists more than 99% possibility that benefit of newspaper ads is not equal than cost of it.\n",
    "'''\n"
   ]
  },
  {
   "cell_type": "markdown",
   "metadata": {},
   "source": [
    "## Exercise 3.2"
   ]
  },
  {
   "cell_type": "markdown",
   "metadata": {},
   "source": [
    "KNN regression averages the closest observations to estimate prediction \n",
    "\n",
    "KNN classifier assigns classification group based on majority of closest observations."
   ]
  },
  {
   "cell_type": "markdown",
   "metadata": {},
   "source": [
    "## Exercise 3.5"
   ]
  },
  {
   "cell_type": "markdown",
   "metadata": {},
   "source": [
    "\n",
    "$\n",
    "\\hat{y}_{i} = x_{i} \\times \\frac{\\sum_{i'=1}^{n}\\left ( x_{i'} y_{i'} \\right )}{\\sum_{j=1}^{n} x_{j}^{2}} \\\\\n",
    "\\hat{y}_{i} = \\sum_{i'=1}^{n} \\frac{\\left ( x_{i'} y_{i'} \\right ) \\times x_{i}}{\\sum_{j=1}^{n} x_{j}^{2}} \\\\\n",
    "\\hat{y}_{i} = \\sum_{i'=1}^{n} \\left ( \\frac{ x_{i} x_{i'} } { \\sum_{j=1}^{n} x_{j}^{2} } \\times y_{i'} \\right ) \\\\\n",
    "a_{i'} = \\frac{ x_{i} x_{i'} } { \\sum_{j=1}^{n} x_{j}^{2} } \\\\\n",
    "$\n"
   ]
  },
  {
   "cell_type": "markdown",
   "metadata": {},
   "source": [
    "## Exercise 3.6"
   ]
  },
  {
   "cell_type": "markdown",
   "metadata": {},
   "source": [
    "\n",
    "Using  equation (3.4), when  $x_{i}=\\bar{x}$, \n",
    "then  $\\hat{\\beta_{1}}=0$  and  $\\hat{\\beta_{0}}=\\bar{y}$ \n",
    "and  the  equation  for $\\hat{y_{i}}$ evaluates to  equal $\\bar{y}$\n"
   ]
  },
  {
   "cell_type": "markdown",
   "metadata": {},
   "source": [
    "## Exercise 3.11"
   ]
  },
  {
   "cell_type": "code",
   "execution_count": 4,
   "metadata": {},
   "outputs": [
    {
     "data": {
      "text/html": [
       "<table class=\"simpletable\">\n",
       "<caption>OLS Regression Results</caption>\n",
       "<tr>\n",
       "  <th>Dep. Variable:</th>            <td>y</td>        <th>  R-squared:         </th> <td>   0.790</td>\n",
       "</tr>\n",
       "<tr>\n",
       "  <th>Model:</th>                   <td>OLS</td>       <th>  Adj. R-squared:    </th> <td>   0.787</td>\n",
       "</tr>\n",
       "<tr>\n",
       "  <th>Method:</th>             <td>Least Squares</td>  <th>  F-statistic:       </th> <td>   371.4</td>\n",
       "</tr>\n",
       "<tr>\n",
       "  <th>Date:</th>             <td>Thu, 31 Jan 2019</td> <th>  Prob (F-statistic):</th> <td>2.82e-35</td>\n",
       "</tr>\n",
       "<tr>\n",
       "  <th>Time:</th>                 <td>14:16:24</td>     <th>  Log-Likelihood:    </th> <td> -136.94</td>\n",
       "</tr>\n",
       "<tr>\n",
       "  <th>No. Observations:</th>      <td>   100</td>      <th>  AIC:               </th> <td>   275.9</td>\n",
       "</tr>\n",
       "<tr>\n",
       "  <th>Df Residuals:</th>          <td>    99</td>      <th>  BIC:               </th> <td>   278.5</td>\n",
       "</tr>\n",
       "<tr>\n",
       "  <th>Df Model:</th>              <td>     1</td>      <th>                     </th>     <td> </td>   \n",
       "</tr>\n",
       "<tr>\n",
       "  <th>Covariance Type:</th>      <td>nonrobust</td>    <th>                     </th>     <td> </td>   \n",
       "</tr>\n",
       "</table>\n",
       "<table class=\"simpletable\">\n",
       "<tr>\n",
       "   <td></td>     <th>coef</th>     <th>std err</th>      <th>t</th>      <th>P>|t|</th>  <th>[0.025</th>    <th>0.975]</th>  \n",
       "</tr>\n",
       "<tr>\n",
       "  <th>x1</th> <td>    1.9754</td> <td>    0.103</td> <td>   19.272</td> <td> 0.000</td> <td>    1.772</td> <td>    2.179</td>\n",
       "</tr>\n",
       "</table>\n",
       "<table class=\"simpletable\">\n",
       "<tr>\n",
       "  <th>Omnibus:</th>       <td> 0.555</td> <th>  Durbin-Watson:     </th> <td>   1.775</td>\n",
       "</tr>\n",
       "<tr>\n",
       "  <th>Prob(Omnibus):</th> <td> 0.758</td> <th>  Jarque-Bera (JB):  </th> <td>   0.687</td>\n",
       "</tr>\n",
       "<tr>\n",
       "  <th>Skew:</th>          <td> 0.077</td> <th>  Prob(JB):          </th> <td>   0.709</td>\n",
       "</tr>\n",
       "<tr>\n",
       "  <th>Kurtosis:</th>      <td> 2.624</td> <th>  Cond. No.          </th> <td>    1.00</td>\n",
       "</tr>\n",
       "</table><br/><br/>Warnings:<br/>[1] Standard Errors assume that the covariance matrix of the errors is correctly specified."
      ],
      "text/plain": [
       "<class 'statsmodels.iolib.summary.Summary'>\n",
       "\"\"\"\n",
       "                            OLS Regression Results                            \n",
       "==============================================================================\n",
       "Dep. Variable:                      y   R-squared:                       0.790\n",
       "Model:                            OLS   Adj. R-squared:                  0.787\n",
       "Method:                 Least Squares   F-statistic:                     371.4\n",
       "Date:                Thu, 31 Jan 2019   Prob (F-statistic):           2.82e-35\n",
       "Time:                        14:16:24   Log-Likelihood:                -136.94\n",
       "No. Observations:                 100   AIC:                             275.9\n",
       "Df Residuals:                      99   BIC:                             278.5\n",
       "Df Model:                           1                                         \n",
       "Covariance Type:            nonrobust                                         \n",
       "==============================================================================\n",
       "                 coef    std err          t      P>|t|      [0.025      0.975]\n",
       "------------------------------------------------------------------------------\n",
       "x1             1.9754      0.103     19.272      0.000       1.772       2.179\n",
       "==============================================================================\n",
       "Omnibus:                        0.555   Durbin-Watson:                   1.775\n",
       "Prob(Omnibus):                  0.758   Jarque-Bera (JB):                0.687\n",
       "Skew:                           0.077   Prob(JB):                        0.709\n",
       "Kurtosis:                       2.624   Cond. No.                         1.00\n",
       "==============================================================================\n",
       "\n",
       "Warnings:\n",
       "[1] Standard Errors assume that the covariance matrix of the errors is correctly specified.\n",
       "\"\"\""
      ]
     },
     "execution_count": 4,
     "metadata": {},
     "output_type": "execute_result"
    }
   ],
   "source": [
    "# part (a)\n",
    "import numpy as np\n",
    "\n",
    "np.random.seed(11)\n",
    "\n",
    "s = np.random.normal(0,1,100)\n",
    "x = s \n",
    "d = np.random.normal(0,1,100)\n",
    "\n",
    "y = 2*x + d\n",
    "\n",
    "import statsmodels.api as sm\n",
    "\n",
    "model1 = sm.OLS(y,x).fit()\n",
    "\n",
    "model1.summary()\n"
   ]
  },
  {
   "cell_type": "markdown",
   "metadata": {},
   "source": [
    "The estimated coefficient 2.04 means with one unit increase in x, y will increase 2.04 units. \n",
    "Standard error rate shows the one standard deviation of beta_x is nearly 0. So the 95% confidence interval of beta_x is [1.872,2.211]\n",
    "P-value close to 0 shows that x is statistically significant.\n"
   ]
  },
  {
   "cell_type": "code",
   "execution_count": 5,
   "metadata": {},
   "outputs": [
    {
     "data": {
      "text/html": [
       "<table class=\"simpletable\">\n",
       "<caption>OLS Regression Results</caption>\n",
       "<tr>\n",
       "  <th>Dep. Variable:</th>            <td>y</td>        <th>  R-squared:         </th> <td>   0.790</td>\n",
       "</tr>\n",
       "<tr>\n",
       "  <th>Model:</th>                   <td>OLS</td>       <th>  Adj. R-squared:    </th> <td>   0.787</td>\n",
       "</tr>\n",
       "<tr>\n",
       "  <th>Method:</th>             <td>Least Squares</td>  <th>  F-statistic:       </th> <td>   371.4</td>\n",
       "</tr>\n",
       "<tr>\n",
       "  <th>Date:</th>             <td>Thu, 31 Jan 2019</td> <th>  Prob (F-statistic):</th> <td>2.82e-35</td>\n",
       "</tr>\n",
       "<tr>\n",
       "  <th>Time:</th>                 <td>14:16:24</td>     <th>  Log-Likelihood:    </th> <td> -57.048</td>\n",
       "</tr>\n",
       "<tr>\n",
       "  <th>No. Observations:</th>      <td>   100</td>      <th>  AIC:               </th> <td>   116.1</td>\n",
       "</tr>\n",
       "<tr>\n",
       "  <th>Df Residuals:</th>          <td>    99</td>      <th>  BIC:               </th> <td>   118.7</td>\n",
       "</tr>\n",
       "<tr>\n",
       "  <th>Df Model:</th>              <td>     1</td>      <th>                     </th>     <td> </td>   \n",
       "</tr>\n",
       "<tr>\n",
       "  <th>Covariance Type:</th>      <td>nonrobust</td>    <th>                     </th>     <td> </td>   \n",
       "</tr>\n",
       "</table>\n",
       "<table class=\"simpletable\">\n",
       "<tr>\n",
       "   <td></td>     <th>coef</th>     <th>std err</th>      <th>t</th>      <th>P>|t|</th>  <th>[0.025</th>    <th>0.975]</th>  \n",
       "</tr>\n",
       "<tr>\n",
       "  <th>x1</th> <td>    0.3997</td> <td>    0.021</td> <td>   19.272</td> <td> 0.000</td> <td>    0.359</td> <td>    0.441</td>\n",
       "</tr>\n",
       "</table>\n",
       "<table class=\"simpletable\">\n",
       "<tr>\n",
       "  <th>Omnibus:</th>       <td> 0.720</td> <th>  Durbin-Watson:     </th> <td>   2.036</td>\n",
       "</tr>\n",
       "<tr>\n",
       "  <th>Prob(Omnibus):</th> <td> 0.698</td> <th>  Jarque-Bera (JB):  </th> <td>   0.823</td>\n",
       "</tr>\n",
       "<tr>\n",
       "  <th>Skew:</th>          <td>-0.105</td> <th>  Prob(JB):          </th> <td>   0.663</td>\n",
       "</tr>\n",
       "<tr>\n",
       "  <th>Kurtosis:</th>      <td> 2.608</td> <th>  Cond. No.          </th> <td>    1.00</td>\n",
       "</tr>\n",
       "</table><br/><br/>Warnings:<br/>[1] Standard Errors assume that the covariance matrix of the errors is correctly specified."
      ],
      "text/plain": [
       "<class 'statsmodels.iolib.summary.Summary'>\n",
       "\"\"\"\n",
       "                            OLS Regression Results                            \n",
       "==============================================================================\n",
       "Dep. Variable:                      y   R-squared:                       0.790\n",
       "Model:                            OLS   Adj. R-squared:                  0.787\n",
       "Method:                 Least Squares   F-statistic:                     371.4\n",
       "Date:                Thu, 31 Jan 2019   Prob (F-statistic):           2.82e-35\n",
       "Time:                        14:16:24   Log-Likelihood:                -57.048\n",
       "No. Observations:                 100   AIC:                             116.1\n",
       "Df Residuals:                      99   BIC:                             118.7\n",
       "Df Model:                           1                                         \n",
       "Covariance Type:            nonrobust                                         \n",
       "==============================================================================\n",
       "                 coef    std err          t      P>|t|      [0.025      0.975]\n",
       "------------------------------------------------------------------------------\n",
       "x1             0.3997      0.021     19.272      0.000       0.359       0.441\n",
       "==============================================================================\n",
       "Omnibus:                        0.720   Durbin-Watson:                   2.036\n",
       "Prob(Omnibus):                  0.698   Jarque-Bera (JB):                0.823\n",
       "Skew:                          -0.105   Prob(JB):                        0.663\n",
       "Kurtosis:                       2.608   Cond. No.                         1.00\n",
       "==============================================================================\n",
       "\n",
       "Warnings:\n",
       "[1] Standard Errors assume that the covariance matrix of the errors is correctly specified.\n",
       "\"\"\""
      ]
     },
     "execution_count": 5,
     "metadata": {},
     "output_type": "execute_result"
    }
   ],
   "source": [
    "# part (b)\n",
    "\n",
    "model2 = sm.OLS(x,y).fit()\n",
    "\n",
    "model2.summary()"
   ]
  },
  {
   "cell_type": "markdown",
   "metadata": {},
   "source": [
    "The estimated coefficient 0.4175 means with one unit increase in y, x will increase nearly  0.4175. \n",
    "Standard error rate shows the one standard deviation of beta_y is 3.08e^-8. So the 95% confidence interval of beta_y is [0.383, 0.452]\n",
    "P-value close to 0 shows that y is statistically significant.\n"
   ]
  },
  {
   "cell_type": "markdown",
   "metadata": {},
   "source": [
    "# part (c)\n",
    "\n",
    "$\\hat {x} = \\hat{\\beta_{x}} \\times y$ versus $\\hat {y} = \\hat{\\beta_{y}} \\times x$, the betas should be inverse of each other $\\hat{\\beta_{x}}=\\frac{1}{\\hat{\\beta_{y}}}$ \n",
    "but they are somewhat off \n",
    "\n"
   ]
  },
  {
   "cell_type": "markdown",
   "metadata": {},
   "source": [
    "#### part(e)\n",
    "I used t- statistic formula from (d) and plug both (x,y) and (y,x) in it. I got same result.\n",
    "\n",
    "In conclusion, the two regression lines should be the same just with the axes switched."
   ]
  },
  {
   "cell_type": "code",
   "execution_count": 7,
   "metadata": {},
   "outputs": [
    {
     "data": {
      "text/html": [
       "<table class=\"simpletable\">\n",
       "<caption>OLS Regression Results</caption>\n",
       "<tr>\n",
       "  <th>Dep. Variable:</th>            <td>y</td>        <th>  R-squared:         </th> <td>   0.790</td>\n",
       "</tr>\n",
       "<tr>\n",
       "  <th>Model:</th>                   <td>OLS</td>       <th>  Adj. R-squared:    </th> <td>   0.787</td>\n",
       "</tr>\n",
       "<tr>\n",
       "  <th>Method:</th>             <td>Least Squares</td>  <th>  F-statistic:       </th> <td>   367.6</td>\n",
       "</tr>\n",
       "<tr>\n",
       "  <th>Date:</th>             <td>Thu, 31 Jan 2019</td> <th>  Prob (F-statistic):</th> <td>6.22e-35</td>\n",
       "</tr>\n",
       "<tr>\n",
       "  <th>Time:</th>                 <td>14:16:24</td>     <th>  Log-Likelihood:    </th> <td> -136.94</td>\n",
       "</tr>\n",
       "<tr>\n",
       "  <th>No. Observations:</th>      <td>   100</td>      <th>  AIC:               </th> <td>   277.9</td>\n",
       "</tr>\n",
       "<tr>\n",
       "  <th>Df Residuals:</th>          <td>    98</td>      <th>  BIC:               </th> <td>   283.1</td>\n",
       "</tr>\n",
       "<tr>\n",
       "  <th>Df Model:</th>              <td>     1</td>      <th>                     </th>     <td> </td>   \n",
       "</tr>\n",
       "<tr>\n",
       "  <th>Covariance Type:</th>      <td>nonrobust</td>    <th>                     </th>     <td> </td>   \n",
       "</tr>\n",
       "</table>\n",
       "<table class=\"simpletable\">\n",
       "<tr>\n",
       "    <td></td>       <th>coef</th>     <th>std err</th>      <th>t</th>      <th>P>|t|</th>  <th>[0.025</th>    <th>0.975]</th>  \n",
       "</tr>\n",
       "<tr>\n",
       "  <th>const</th> <td>    0.0042</td> <td>    0.096</td> <td>    0.044</td> <td> 0.965</td> <td>   -0.187</td> <td>    0.195</td>\n",
       "</tr>\n",
       "<tr>\n",
       "  <th>x1</th>    <td>    1.9753</td> <td>    0.103</td> <td>   19.172</td> <td> 0.000</td> <td>    1.771</td> <td>    2.180</td>\n",
       "</tr>\n",
       "</table>\n",
       "<table class=\"simpletable\">\n",
       "<tr>\n",
       "  <th>Omnibus:</th>       <td> 0.555</td> <th>  Durbin-Watson:     </th> <td>   1.775</td>\n",
       "</tr>\n",
       "<tr>\n",
       "  <th>Prob(Omnibus):</th> <td> 0.758</td> <th>  Jarque-Bera (JB):  </th> <td>   0.687</td>\n",
       "</tr>\n",
       "<tr>\n",
       "  <th>Skew:</th>          <td> 0.077</td> <th>  Prob(JB):          </th> <td>   0.709</td>\n",
       "</tr>\n",
       "<tr>\n",
       "  <th>Kurtosis:</th>      <td> 2.624</td> <th>  Cond. No.          </th> <td>    1.07</td>\n",
       "</tr>\n",
       "</table><br/><br/>Warnings:<br/>[1] Standard Errors assume that the covariance matrix of the errors is correctly specified."
      ],
      "text/plain": [
       "<class 'statsmodels.iolib.summary.Summary'>\n",
       "\"\"\"\n",
       "                            OLS Regression Results                            \n",
       "==============================================================================\n",
       "Dep. Variable:                      y   R-squared:                       0.790\n",
       "Model:                            OLS   Adj. R-squared:                  0.787\n",
       "Method:                 Least Squares   F-statistic:                     367.6\n",
       "Date:                Thu, 31 Jan 2019   Prob (F-statistic):           6.22e-35\n",
       "Time:                        14:16:24   Log-Likelihood:                -136.94\n",
       "No. Observations:                 100   AIC:                             277.9\n",
       "Df Residuals:                      98   BIC:                             283.1\n",
       "Df Model:                           1                                         \n",
       "Covariance Type:            nonrobust                                         \n",
       "==============================================================================\n",
       "                 coef    std err          t      P>|t|      [0.025      0.975]\n",
       "------------------------------------------------------------------------------\n",
       "const          0.0042      0.096      0.044      0.965      -0.187       0.195\n",
       "x1             1.9753      0.103     19.172      0.000       1.771       2.180\n",
       "==============================================================================\n",
       "Omnibus:                        0.555   Durbin-Watson:                   1.775\n",
       "Prob(Omnibus):                  0.758   Jarque-Bera (JB):                0.687\n",
       "Skew:                           0.077   Prob(JB):                        0.709\n",
       "Kurtosis:                       2.624   Cond. No.                         1.07\n",
       "==============================================================================\n",
       "\n",
       "Warnings:\n",
       "[1] Standard Errors assume that the covariance matrix of the errors is correctly specified.\n",
       "\"\"\""
      ]
     },
     "execution_count": 7,
     "metadata": {},
     "output_type": "execute_result"
    }
   ],
   "source": [
    "# part(f)\n",
    "\n",
    "X = sm.add_constant(x)\n",
    "\n",
    "model3 = sm.OLS(y,X).fit()\n",
    "\n",
    "model3.summary()\n",
    "\n"
   ]
  },
  {
   "cell_type": "code",
   "execution_count": 8,
   "metadata": {},
   "outputs": [
    {
     "data": {
      "text/html": [
       "<table class=\"simpletable\">\n",
       "<caption>OLS Regression Results</caption>\n",
       "<tr>\n",
       "  <th>Dep. Variable:</th>            <td>y</td>        <th>  R-squared:         </th> <td>   0.790</td>\n",
       "</tr>\n",
       "<tr>\n",
       "  <th>Model:</th>                   <td>OLS</td>       <th>  Adj. R-squared:    </th> <td>   0.787</td>\n",
       "</tr>\n",
       "<tr>\n",
       "  <th>Method:</th>             <td>Least Squares</td>  <th>  F-statistic:       </th> <td>   367.6</td>\n",
       "</tr>\n",
       "<tr>\n",
       "  <th>Date:</th>             <td>Thu, 31 Jan 2019</td> <th>  Prob (F-statistic):</th> <td>6.22e-35</td>\n",
       "</tr>\n",
       "<tr>\n",
       "  <th>Time:</th>                 <td>14:16:24</td>     <th>  Log-Likelihood:    </th> <td> -57.048</td>\n",
       "</tr>\n",
       "<tr>\n",
       "  <th>No. Observations:</th>      <td>   100</td>      <th>  AIC:               </th> <td>   118.1</td>\n",
       "</tr>\n",
       "<tr>\n",
       "  <th>Df Residuals:</th>          <td>    98</td>      <th>  BIC:               </th> <td>   123.3</td>\n",
       "</tr>\n",
       "<tr>\n",
       "  <th>Df Model:</th>              <td>     1</td>      <th>                     </th>     <td> </td>   \n",
       "</tr>\n",
       "<tr>\n",
       "  <th>Covariance Type:</th>      <td>nonrobust</td>    <th>                     </th>     <td> </td>   \n",
       "</tr>\n",
       "</table>\n",
       "<table class=\"simpletable\">\n",
       "<tr>\n",
       "    <td></td>       <th>coef</th>     <th>std err</th>      <th>t</th>      <th>P>|t|</th>  <th>[0.025</th>    <th>0.975]</th>  \n",
       "</tr>\n",
       "<tr>\n",
       "  <th>const</th> <td>    0.0007</td> <td>    0.043</td> <td>    0.017</td> <td> 0.986</td> <td>   -0.085</td> <td>    0.087</td>\n",
       "</tr>\n",
       "<tr>\n",
       "  <th>x1</th>    <td>    0.3997</td> <td>    0.021</td> <td>   19.172</td> <td> 0.000</td> <td>    0.358</td> <td>    0.441</td>\n",
       "</tr>\n",
       "</table>\n",
       "<table class=\"simpletable\">\n",
       "<tr>\n",
       "  <th>Omnibus:</th>       <td> 0.720</td> <th>  Durbin-Watson:     </th> <td>   2.036</td>\n",
       "</tr>\n",
       "<tr>\n",
       "  <th>Prob(Omnibus):</th> <td> 0.698</td> <th>  Jarque-Bera (JB):  </th> <td>   0.823</td>\n",
       "</tr>\n",
       "<tr>\n",
       "  <th>Skew:</th>          <td>-0.105</td> <th>  Prob(JB):          </th> <td>   0.663</td>\n",
       "</tr>\n",
       "<tr>\n",
       "  <th>Kurtosis:</th>      <td> 2.608</td> <th>  Cond. No.          </th> <td>    2.07</td>\n",
       "</tr>\n",
       "</table><br/><br/>Warnings:<br/>[1] Standard Errors assume that the covariance matrix of the errors is correctly specified."
      ],
      "text/plain": [
       "<class 'statsmodels.iolib.summary.Summary'>\n",
       "\"\"\"\n",
       "                            OLS Regression Results                            \n",
       "==============================================================================\n",
       "Dep. Variable:                      y   R-squared:                       0.790\n",
       "Model:                            OLS   Adj. R-squared:                  0.787\n",
       "Method:                 Least Squares   F-statistic:                     367.6\n",
       "Date:                Thu, 31 Jan 2019   Prob (F-statistic):           6.22e-35\n",
       "Time:                        14:16:24   Log-Likelihood:                -57.048\n",
       "No. Observations:                 100   AIC:                             118.1\n",
       "Df Residuals:                      98   BIC:                             123.3\n",
       "Df Model:                           1                                         \n",
       "Covariance Type:            nonrobust                                         \n",
       "==============================================================================\n",
       "                 coef    std err          t      P>|t|      [0.025      0.975]\n",
       "------------------------------------------------------------------------------\n",
       "const          0.0007      0.043      0.017      0.986      -0.085       0.087\n",
       "x1             0.3997      0.021     19.172      0.000       0.358       0.441\n",
       "==============================================================================\n",
       "Omnibus:                        0.720   Durbin-Watson:                   2.036\n",
       "Prob(Omnibus):                  0.698   Jarque-Bera (JB):                0.823\n",
       "Skew:                          -0.105   Prob(JB):                        0.663\n",
       "Kurtosis:                       2.608   Cond. No.                         2.07\n",
       "==============================================================================\n",
       "\n",
       "Warnings:\n",
       "[1] Standard Errors assume that the covariance matrix of the errors is correctly specified.\n",
       "\"\"\""
      ]
     },
     "execution_count": 8,
     "metadata": {},
     "output_type": "execute_result"
    }
   ],
   "source": [
    "Y = sm.add_constant(y)\n",
    "model4 = sm.OLS(x,Y).fit()\n",
    "\n",
    "model4.summary()"
   ]
  },
  {
   "cell_type": "markdown",
   "metadata": {},
   "source": [
    "In conclusion, the t- statistic of two linear regression line are same."
   ]
  },
  {
   "cell_type": "markdown",
   "metadata": {},
   "source": [
    "## exercise 3.12"
   ]
  },
  {
   "cell_type": "markdown",
   "metadata": {},
   "source": [
    "# part(a)\n",
    "When $ x_{i}=y_{i}$, or more generally when the beta denominators are equal $\\sum x_{i}^2=\\sum y_{i}^2$\n"
   ]
  },
  {
   "cell_type": "code",
   "execution_count": 10,
   "metadata": {},
   "outputs": [
    {
     "name": "stdout",
     "output_type": "stream",
     "text": [
      "Model1's coefficient for Beta1 :  [1.97540554]\n",
      "Model2's coefficient for Beta2 :  [0.39968647]\n"
     ]
    }
   ],
   "source": [
    "# part(b)\n",
    "\n",
    "import pandas as pd\n",
    "\n",
    "print(\"Model1's coefficient for Beta1 : \",model1.params)\n",
    "\n",
    "print(\"Model2's coefficient for Beta2 : \",model2.params)"
   ]
  },
  {
   "cell_type": "code",
   "execution_count": 11,
   "metadata": {},
   "outputs": [
    {
     "name": "stdout",
     "output_type": "stream",
     "text": [
      "Model5's coefficient for Beta1 :  [1.00000464]\n",
      "Model6's coefficient for Beta2 :  [0.99999534]\n"
     ]
    }
   ],
   "source": [
    "# part(c)\n",
    "np.random.seed(111)\n",
    "\n",
    "u = np.random.normal(1000,0.1,100)\n",
    "v = np.random.normal(1000,0.1,100)\n",
    "\n",
    "\n",
    "model5 = sm.OLS(v,u).fit()\n",
    "model6 = sm.OLS(u,v).fit()\n",
    "\n",
    "print(\"Model5's coefficient for Beta1 : \",model5.params)\n",
    "\n",
    "print(\"Model6's coefficient for Beta2 : \",model6.params)\n"
   ]
  },
  {
   "cell_type": "markdown",
   "metadata": {},
   "source": [
    "## Excercise 3.13"
   ]
  },
  {
   "cell_type": "code",
   "execution_count": 12,
   "metadata": {},
   "outputs": [],
   "source": [
    "#part (a)\n",
    "np.random.seed(1111)\n",
    "\n",
    "X1 = np.random.normal(0,1,100)\n"
   ]
  },
  {
   "cell_type": "code",
   "execution_count": 13,
   "metadata": {},
   "outputs": [],
   "source": [
    "#part(b)\n",
    "\n",
    "eps = np.random.normal(0,0.25,100)"
   ]
  },
  {
   "cell_type": "code",
   "execution_count": 14,
   "metadata": {},
   "outputs": [
    {
     "name": "stdout",
     "output_type": "stream",
     "text": [
      "100\n"
     ]
    },
    {
     "data": {
      "text/latex": [
       "\\begin{eqnarray}\n",
       "\\beta_{0}=-1 \\\\\n",
       "\\beta_{1}=0.5\n",
       "\\end{eqnarray}"
      ],
      "text/plain": [
       "<IPython.core.display.Latex object>"
      ]
     },
     "execution_count": 14,
     "metadata": {},
     "output_type": "execute_result"
    }
   ],
   "source": [
    "#part(c)\n",
    "Y1 = -1 + 0.5*X1 + eps\n",
    "\n",
    "print(len(Y1))\n",
    "\n",
    "\n"
   ]
  },
  {
   "cell_type": "markdown",
   "metadata": {},
   "source": [
    "\n",
    "$\\beta_{0}=-1 $ \n",
    "$\\beta_{1}=0.5$"
   ]
  },
  {
   "cell_type": "code",
   "execution_count": 15,
   "metadata": {},
   "outputs": [
    {
     "data": {
      "text/plain": [
       "<matplotlib.collections.PathCollection at 0x18136ff0cf8>"
      ]
     },
     "execution_count": 15,
     "metadata": {},
     "output_type": "execute_result"
    },
    {
     "data": {
      "image/png": "[encoded data removed]",
      "text/plain": [
       "<Figure size 432x288 with 1 Axes>"
      ]
     },
     "metadata": {
      "needs_background": "light"
     },
     "output_type": "display_data"
    }
   ],
   "source": [
    "#part(d)\n",
    "import matplotlib.pyplot as plt\n",
    "\n",
    "plt.scatter(X1,Y1)"
   ]
  },
  {
   "cell_type": "markdown",
   "metadata": {},
   "source": [
    "X and Y are nearly positively relative."
   ]
  },
  {
   "cell_type": "code",
   "execution_count": 16,
   "metadata": {},
   "outputs": [
    {
     "name": "stdout",
     "output_type": "stream",
     "text": [
      "[-1.04409137  0.01356952]\n"
     ]
    },
    {
     "data": {
      "text/latex": [
       "\\begin{eqnarray}\n",
       "\\beta_{0}= -0.75049222 \\\\\n",
       "\\beta_{1}= 0.44058306\n",
       "\\end{eqnarray}"
      ],
      "text/plain": [
       "<IPython.core.display.Latex object>"
      ]
     },
     "execution_count": 16,
     "metadata": {},
     "output_type": "execute_result"
    }
   ],
   "source": [
    "#part(e)\n",
    "X2= sm.add_constant(X)\n",
    "\n",
    "model8 = sm.OLS(Y1,X2).fit()\n",
    "\n",
    "print(model8.params)\n",
    "\n",
    "\n"
   ]
  },
  {
   "cell_type": "markdown",
   "metadata": {},
   "source": [
    "$\\beta_{0}= -0.75049222 $\n",
    "$\\beta_{1}= 0.44058306$\n"
   ]
  },
  {
   "cell_type": "code",
   "execution_count": 17,
   "metadata": {},
   "outputs": [
    {
     "data": {
      "image/png": "[encoded data removed]",
      "text/plain": [
       "<Figure size 432x288 with 1 Axes>"
      ]
     },
     "metadata": {
      "needs_background": "light"
     },
     "output_type": "display_data"
    }
   ],
   "source": [
    "#part(f)\n",
    "plt.scatter(X1,Y1)\n",
    "plt.plot(X1,-1 + 0.5*X1,'r')\n",
    "plt.plot(X1, -0.75049222 + 0.44058306*X1, 'b' )\n",
    "\n",
    "plt.show()"
   ]
  },
  {
   "cell_type": "code",
   "execution_count": 18,
   "metadata": {},
   "outputs": [
    {
     "name": "stdout",
     "output_type": "stream",
     "text": [
      "Intercept         -0.996210\n",
      "np.power(X1, 2)    0.005290\n",
      "X1                 0.564663\n",
      "dtype: float64\n",
      "                   df     sum_sq    mean_sq           F        PR(>F)\n",
      "np.power(X1, 2)   1.0   0.009219   0.009219    0.134242  7.148715e-01\n",
      "X1                1.0  27.351537  27.351537  398.277387  4.092429e-36\n",
      "Residual         97.0   6.661435   0.068675         NaN           NaN\n"
     ]
    }
   ],
   "source": [
    "#part(g)\n",
    "import statsmodels.formula.api as smf\n",
    "\n",
    "data = {\"Y1\": Y1, \"X1\": X1}\n",
    "\n",
    "model9 = smf.ols(formula = 'Y1 ~ np.power(X1,2) + X1', data = data).fit()\n",
    "\n",
    "print(model9.params)\n",
    "\n",
    "table = sm.stats.anova_lm(model9,type = 2)\n",
    "\n",
    "print(table)"
   ]
  },
  {
   "cell_type": "markdown",
   "metadata": {},
   "source": [
    "from sklearn.preprocessing import PolynomialFeatures\n",
    "from sklearn.linear_model import LinearRegression\n",
    "\n",
    "poly_reg = PolynomialFeatures(2)\n",
    "xpoly = poly_reg.fit_transform(X1)\n",
    "\n",
    "print(xpoly)\n",
    "\n",
    "linearreg_2  = LinearRegression()\n",
    "linearreg_2.fit(xpoly,Y1)\n",
    "\n",
    "plt.scatter(X1,Y1)\n",
    "plt.plot(X1,-1 + 0.5*X1,'r')\n",
    "plt.plot(X1, -0.75049222 + 0.44058306*X1, 'b' )\n",
    "plt.plot(X1, linearreg_2.predict(xpoly))\n",
    "\n",
    "plt.show()\n"
   ]
  },
  {
   "cell_type": "code",
   "execution_count": 19,
   "metadata": {},
   "outputs": [
    {
     "name": "stdout",
     "output_type": "stream",
     "text": [
      "[-1.05679919  0.00845146]\n"
     ]
    },
    {
     "data": {
      "image/png": "[encoded data removed]",
      "text/plain": [
       "<Figure size 432x288 with 1 Axes>"
      ]
     },
     "metadata": {
      "needs_background": "light"
     },
     "output_type": "display_data"
    }
   ],
   "source": [
    "#part(h)\n",
    "\n",
    "np.random.seed(11111)\n",
    "\n",
    "eps2 = np.random.normal(0,0.1,100)\n",
    "\n",
    "Y2 = -1 + 0.5*X1 + eps2\n",
    "\n",
    "model10 = sm.OLS(Y2,X2).fit()\n",
    "\n",
    "print(model10.params)\n",
    "\n",
    "plt.scatter(X1,Y2)\n",
    "plt.plot(X1,-1 + 0.5*X1,'r')\n",
    "plt.plot(X1, -0.7887987 + 0.09120311*X1, 'b' )\n",
    "plt.show()"
   ]
  },
  {
   "cell_type": "code",
   "execution_count": 20,
   "metadata": {},
   "outputs": [
    {
     "name": "stdout",
     "output_type": "stream",
     "text": [
      "[-1.15037271  0.02118244]\n"
     ]
    },
    {
     "data": {
      "image/png": "[encoded data removed]",
      "text/plain": [
       "<Figure size 432x288 with 1 Axes>"
      ]
     },
     "metadata": {
      "needs_background": "light"
     },
     "output_type": "display_data"
    }
   ],
   "source": [
    "# part(i)\n",
    "np.random.seed(11111)\n",
    "\n",
    "eps3 = np.random.normal(0,1,100)\n",
    "\n",
    "Y3 = -1 + 0.5*X1 + eps3\n",
    "\n",
    "model11 = sm.OLS(Y3,X2).fit()\n",
    "\n",
    "print(model11.params)\n",
    "\n",
    "plt.scatter(X1,Y3)\n",
    "plt.plot(X1,-1 + 0.5*X1,'r')\n",
    "plt.plot(X1, -0.45189999 + 0.07522537*X1, 'b' )\n",
    "plt.show()"
   ]
  },
  {
   "cell_type": "markdown",
   "metadata": {},
   "source": [
    "#### part(j)"
   ]
  },
  {
   "cell_type": "code",
   "execution_count": 21,
   "metadata": {},
   "outputs": [
    {
     "data": {
      "text/html": [
       "<table class=\"simpletable\">\n",
       "<caption>OLS Regression Results</caption>\n",
       "<tr>\n",
       "  <th>Dep. Variable:</th>            <td>y</td>        <th>  R-squared:         </th> <td>   0.000</td>\n",
       "</tr>\n",
       "<tr>\n",
       "  <th>Model:</th>                   <td>OLS</td>       <th>  Adj. R-squared:    </th> <td>  -0.010</td>\n",
       "</tr>\n",
       "<tr>\n",
       "  <th>Method:</th>             <td>Least Squares</td>  <th>  F-statistic:       </th> <td> 0.04620</td>\n",
       "</tr>\n",
       "<tr>\n",
       "  <th>Date:</th>             <td>Thu, 31 Jan 2019</td> <th>  Prob (F-statistic):</th>  <td> 0.830</td> \n",
       "</tr>\n",
       "<tr>\n",
       "  <th>Time:</th>                 <td>14:16:25</td>     <th>  Log-Likelihood:    </th> <td> -87.962</td>\n",
       "</tr>\n",
       "<tr>\n",
       "  <th>No. Observations:</th>      <td>   100</td>      <th>  AIC:               </th> <td>   179.9</td>\n",
       "</tr>\n",
       "<tr>\n",
       "  <th>Df Residuals:</th>          <td>    98</td>      <th>  BIC:               </th> <td>   185.1</td>\n",
       "</tr>\n",
       "<tr>\n",
       "  <th>Df Model:</th>              <td>     1</td>      <th>                     </th>     <td> </td>   \n",
       "</tr>\n",
       "<tr>\n",
       "  <th>Covariance Type:</th>      <td>nonrobust</td>    <th>                     </th>     <td> </td>   \n",
       "</tr>\n",
       "</table>\n",
       "<table class=\"simpletable\">\n",
       "<tr>\n",
       "    <td></td>       <th>coef</th>     <th>std err</th>      <th>t</th>      <th>P>|t|</th>  <th>[0.025</th>    <th>0.975]</th>  \n",
       "</tr>\n",
       "<tr>\n",
       "  <th>const</th> <td>   -1.0441</td> <td>    0.059</td> <td>  -17.723</td> <td> 0.000</td> <td>   -1.161</td> <td>   -0.927</td>\n",
       "</tr>\n",
       "<tr>\n",
       "  <th>x1</th>    <td>    0.0136</td> <td>    0.063</td> <td>    0.215</td> <td> 0.830</td> <td>   -0.112</td> <td>    0.139</td>\n",
       "</tr>\n",
       "</table>\n",
       "<table class=\"simpletable\">\n",
       "<tr>\n",
       "  <th>Omnibus:</th>       <td> 0.419</td> <th>  Durbin-Watson:     </th> <td>   1.794</td>\n",
       "</tr>\n",
       "<tr>\n",
       "  <th>Prob(Omnibus):</th> <td> 0.811</td> <th>  Jarque-Bera (JB):  </th> <td>   0.572</td>\n",
       "</tr>\n",
       "<tr>\n",
       "  <th>Skew:</th>          <td> 0.027</td> <th>  Prob(JB):          </th> <td>   0.751</td>\n",
       "</tr>\n",
       "<tr>\n",
       "  <th>Kurtosis:</th>      <td> 2.633</td> <th>  Cond. No.          </th> <td>    1.07</td>\n",
       "</tr>\n",
       "</table><br/><br/>Warnings:<br/>[1] Standard Errors assume that the covariance matrix of the errors is correctly specified."
      ],
      "text/plain": [
       "<class 'statsmodels.iolib.summary.Summary'>\n",
       "\"\"\"\n",
       "                            OLS Regression Results                            \n",
       "==============================================================================\n",
       "Dep. Variable:                      y   R-squared:                       0.000\n",
       "Model:                            OLS   Adj. R-squared:                 -0.010\n",
       "Method:                 Least Squares   F-statistic:                   0.04620\n",
       "Date:                Thu, 31 Jan 2019   Prob (F-statistic):              0.830\n",
       "Time:                        14:16:25   Log-Likelihood:                -87.962\n",
       "No. Observations:                 100   AIC:                             179.9\n",
       "Df Residuals:                      98   BIC:                             185.1\n",
       "Df Model:                           1                                         \n",
       "Covariance Type:            nonrobust                                         \n",
       "==============================================================================\n",
       "                 coef    std err          t      P>|t|      [0.025      0.975]\n",
       "------------------------------------------------------------------------------\n",
       "const         -1.0441      0.059    -17.723      0.000      -1.161      -0.927\n",
       "x1             0.0136      0.063      0.215      0.830      -0.112       0.139\n",
       "==============================================================================\n",
       "Omnibus:                        0.419   Durbin-Watson:                   1.794\n",
       "Prob(Omnibus):                  0.811   Jarque-Bera (JB):                0.572\n",
       "Skew:                           0.027   Prob(JB):                        0.751\n",
       "Kurtosis:                       2.633   Cond. No.                         1.07\n",
       "==============================================================================\n",
       "\n",
       "Warnings:\n",
       "[1] Standard Errors assume that the covariance matrix of the errors is correctly specified.\n",
       "\"\"\""
      ]
     },
     "execution_count": 21,
     "metadata": {},
     "output_type": "execute_result"
    }
   ],
   "source": [
    "model8.summary()"
   ]
  },
  {
   "cell_type": "code",
   "execution_count": 22,
   "metadata": {},
   "outputs": [
    {
     "data": {
      "text/html": [
       "<table class=\"simpletable\">\n",
       "<caption>OLS Regression Results</caption>\n",
       "<tr>\n",
       "  <th>Dep. Variable:</th>            <td>y</td>        <th>  R-squared:         </th> <td>   0.000</td>\n",
       "</tr>\n",
       "<tr>\n",
       "  <th>Model:</th>                   <td>OLS</td>       <th>  Adj. R-squared:    </th> <td>  -0.010</td>\n",
       "</tr>\n",
       "<tr>\n",
       "  <th>Method:</th>             <td>Least Squares</td>  <th>  F-statistic:       </th> <td> 0.02733</td>\n",
       "</tr>\n",
       "<tr>\n",
       "  <th>Date:</th>             <td>Thu, 31 Jan 2019</td> <th>  Prob (F-statistic):</th>  <td> 0.869</td> \n",
       "</tr>\n",
       "<tr>\n",
       "  <th>Time:</th>                 <td>14:16:25</td>     <th>  Log-Likelihood:    </th> <td> -66.854</td>\n",
       "</tr>\n",
       "<tr>\n",
       "  <th>No. Observations:</th>      <td>   100</td>      <th>  AIC:               </th> <td>   137.7</td>\n",
       "</tr>\n",
       "<tr>\n",
       "  <th>Df Residuals:</th>          <td>    98</td>      <th>  BIC:               </th> <td>   142.9</td>\n",
       "</tr>\n",
       "<tr>\n",
       "  <th>Df Model:</th>              <td>     1</td>      <th>                     </th>     <td> </td>   \n",
       "</tr>\n",
       "<tr>\n",
       "  <th>Covariance Type:</th>      <td>nonrobust</td>    <th>                     </th>     <td> </td>   \n",
       "</tr>\n",
       "</table>\n",
       "<table class=\"simpletable\">\n",
       "<tr>\n",
       "    <td></td>       <th>coef</th>     <th>std err</th>      <th>t</th>      <th>P>|t|</th>  <th>[0.025</th>    <th>0.975]</th>  \n",
       "</tr>\n",
       "<tr>\n",
       "  <th>const</th> <td>   -1.0568</td> <td>    0.048</td> <td>  -22.155</td> <td> 0.000</td> <td>   -1.151</td> <td>   -0.962</td>\n",
       "</tr>\n",
       "<tr>\n",
       "  <th>x1</th>    <td>    0.0085</td> <td>    0.051</td> <td>    0.165</td> <td> 0.869</td> <td>   -0.093</td> <td>    0.110</td>\n",
       "</tr>\n",
       "</table>\n",
       "<table class=\"simpletable\">\n",
       "<tr>\n",
       "  <th>Omnibus:</th>       <td> 0.074</td> <th>  Durbin-Watson:     </th> <td>   1.959</td>\n",
       "</tr>\n",
       "<tr>\n",
       "  <th>Prob(Omnibus):</th> <td> 0.964</td> <th>  Jarque-Bera (JB):  </th> <td>   0.235</td>\n",
       "</tr>\n",
       "<tr>\n",
       "  <th>Skew:</th>          <td> 0.029</td> <th>  Prob(JB):          </th> <td>   0.889</td>\n",
       "</tr>\n",
       "<tr>\n",
       "  <th>Kurtosis:</th>      <td> 2.770</td> <th>  Cond. No.          </th> <td>    1.07</td>\n",
       "</tr>\n",
       "</table><br/><br/>Warnings:<br/>[1] Standard Errors assume that the covariance matrix of the errors is correctly specified."
      ],
      "text/plain": [
       "<class 'statsmodels.iolib.summary.Summary'>\n",
       "\"\"\"\n",
       "                            OLS Regression Results                            \n",
       "==============================================================================\n",
       "Dep. Variable:                      y   R-squared:                       0.000\n",
       "Model:                            OLS   Adj. R-squared:                 -0.010\n",
       "Method:                 Least Squares   F-statistic:                   0.02733\n",
       "Date:                Thu, 31 Jan 2019   Prob (F-statistic):              0.869\n",
       "Time:                        14:16:25   Log-Likelihood:                -66.854\n",
       "No. Observations:                 100   AIC:                             137.7\n",
       "Df Residuals:                      98   BIC:                             142.9\n",
       "Df Model:                           1                                         \n",
       "Covariance Type:            nonrobust                                         \n",
       "==============================================================================\n",
       "                 coef    std err          t      P>|t|      [0.025      0.975]\n",
       "------------------------------------------------------------------------------\n",
       "const         -1.0568      0.048    -22.155      0.000      -1.151      -0.962\n",
       "x1             0.0085      0.051      0.165      0.869      -0.093       0.110\n",
       "==============================================================================\n",
       "Omnibus:                        0.074   Durbin-Watson:                   1.959\n",
       "Prob(Omnibus):                  0.964   Jarque-Bera (JB):                0.235\n",
       "Skew:                           0.029   Prob(JB):                        0.889\n",
       "Kurtosis:                       2.770   Cond. No.                         1.07\n",
       "==============================================================================\n",
       "\n",
       "Warnings:\n",
       "[1] Standard Errors assume that the covariance matrix of the errors is correctly specified.\n",
       "\"\"\""
      ]
     },
     "execution_count": 22,
     "metadata": {},
     "output_type": "execute_result"
    }
   ],
   "source": [
    "model10.summary()"
   ]
  },
  {
   "cell_type": "code",
   "execution_count": 23,
   "metadata": {},
   "outputs": [
    {
     "data": {
      "text/html": [
       "<table class=\"simpletable\">\n",
       "<caption>OLS Regression Results</caption>\n",
       "<tr>\n",
       "  <th>Dep. Variable:</th>            <td>y</td>        <th>  R-squared:         </th> <td>   0.000</td>\n",
       "</tr>\n",
       "<tr>\n",
       "  <th>Model:</th>                   <td>OLS</td>       <th>  Adj. R-squared:    </th> <td>  -0.010</td>\n",
       "</tr>\n",
       "<tr>\n",
       "  <th>Method:</th>             <td>Least Squares</td>  <th>  F-statistic:       </th> <td> 0.03133</td>\n",
       "</tr>\n",
       "<tr>\n",
       "  <th>Date:</th>             <td>Thu, 31 Jan 2019</td> <th>  Prob (F-statistic):</th>  <td> 0.860</td> \n",
       "</tr>\n",
       "<tr>\n",
       "  <th>Time:</th>                 <td>14:16:25</td>     <th>  Log-Likelihood:    </th> <td> -151.91</td>\n",
       "</tr>\n",
       "<tr>\n",
       "  <th>No. Observations:</th>      <td>   100</td>      <th>  AIC:               </th> <td>   307.8</td>\n",
       "</tr>\n",
       "<tr>\n",
       "  <th>Df Residuals:</th>          <td>    98</td>      <th>  BIC:               </th> <td>   313.0</td>\n",
       "</tr>\n",
       "<tr>\n",
       "  <th>Df Model:</th>              <td>     1</td>      <th>                     </th>     <td> </td>   \n",
       "</tr>\n",
       "<tr>\n",
       "  <th>Covariance Type:</th>      <td>nonrobust</td>    <th>                     </th>     <td> </td>   \n",
       "</tr>\n",
       "</table>\n",
       "<table class=\"simpletable\">\n",
       "<tr>\n",
       "    <td></td>       <th>coef</th>     <th>std err</th>      <th>t</th>      <th>P>|t|</th>  <th>[0.025</th>    <th>0.975]</th>  \n",
       "</tr>\n",
       "<tr>\n",
       "  <th>const</th> <td>   -1.1504</td> <td>    0.112</td> <td>  -10.301</td> <td> 0.000</td> <td>   -1.372</td> <td>   -0.929</td>\n",
       "</tr>\n",
       "<tr>\n",
       "  <th>x1</th>    <td>    0.0212</td> <td>    0.120</td> <td>    0.177</td> <td> 0.860</td> <td>   -0.216</td> <td>    0.259</td>\n",
       "</tr>\n",
       "</table>\n",
       "<table class=\"simpletable\">\n",
       "<tr>\n",
       "  <th>Omnibus:</th>       <td> 2.211</td> <th>  Durbin-Watson:     </th> <td>   1.959</td>\n",
       "</tr>\n",
       "<tr>\n",
       "  <th>Prob(Omnibus):</th> <td> 0.331</td> <th>  Jarque-Bera (JB):  </th> <td>   1.785</td>\n",
       "</tr>\n",
       "<tr>\n",
       "  <th>Skew:</th>          <td>-0.176</td> <th>  Prob(JB):          </th> <td>   0.410</td>\n",
       "</tr>\n",
       "<tr>\n",
       "  <th>Kurtosis:</th>      <td> 2.448</td> <th>  Cond. No.          </th> <td>    1.07</td>\n",
       "</tr>\n",
       "</table><br/><br/>Warnings:<br/>[1] Standard Errors assume that the covariance matrix of the errors is correctly specified."
      ],
      "text/plain": [
       "<class 'statsmodels.iolib.summary.Summary'>\n",
       "\"\"\"\n",
       "                            OLS Regression Results                            \n",
       "==============================================================================\n",
       "Dep. Variable:                      y   R-squared:                       0.000\n",
       "Model:                            OLS   Adj. R-squared:                 -0.010\n",
       "Method:                 Least Squares   F-statistic:                   0.03133\n",
       "Date:                Thu, 31 Jan 2019   Prob (F-statistic):              0.860\n",
       "Time:                        14:16:25   Log-Likelihood:                -151.91\n",
       "No. Observations:                 100   AIC:                             307.8\n",
       "Df Residuals:                      98   BIC:                             313.0\n",
       "Df Model:                           1                                         \n",
       "Covariance Type:            nonrobust                                         \n",
       "==============================================================================\n",
       "                 coef    std err          t      P>|t|      [0.025      0.975]\n",
       "------------------------------------------------------------------------------\n",
       "const         -1.1504      0.112    -10.301      0.000      -1.372      -0.929\n",
       "x1             0.0212      0.120      0.177      0.860      -0.216       0.259\n",
       "==============================================================================\n",
       "Omnibus:                        2.211   Durbin-Watson:                   1.959\n",
       "Prob(Omnibus):                  0.331   Jarque-Bera (JB):                1.785\n",
       "Skew:                          -0.176   Prob(JB):                        0.410\n",
       "Kurtosis:                       2.448   Cond. No.                         1.07\n",
       "==============================================================================\n",
       "\n",
       "Warnings:\n",
       "[1] Standard Errors assume that the covariance matrix of the errors is correctly specified.\n",
       "\"\"\""
      ]
     },
     "execution_count": 23,
     "metadata": {},
     "output_type": "execute_result"
    }
   ],
   "source": [
    "model11.summary()"
   ]
  },
  {
   "cell_type": "code",
   "execution_count": 24,
   "metadata": {},
   "outputs": [],
   "source": [
    "from matplotlib import pyplot as plt\n",
    "from pandas.tools.plotting import scatter_matrix \n",
    "from mpl_toolkits.mplot3d import Axes3D\n",
    "from statsmodels.stats.outliers_influence import OLSInfluence\n",
    "\n",
    "%matplotlib inline\n",
    "plt.style.use('ggplot')"
   ]
  },
  {
   "cell_type": "markdown",
   "metadata": {},
   "source": [
    "## Exercise 3.14"
   ]
  },
  {
   "cell_type": "code",
   "execution_count": 25,
   "metadata": {},
   "outputs": [],
   "source": [
    "#part(a)\n",
    "\n",
    "np.random.seed(2)\n",
    "\n",
    "a1 = np.random.random(100)\n",
    "\n",
    "a2 = 0.5*a1 + np.random.randn(100)/10\n",
    "\n",
    "b =2+2* a1 +0.3* a2 + np.random.randn(100)\n",
    "\n",
    "data2 = {\"b\":b , \"a1\": a1, \"a2\": a2}\n",
    "\n"
   ]
  },
  {
   "cell_type": "code",
   "execution_count": 26,
   "metadata": {},
   "outputs": [
    {
     "name": "stdout",
     "output_type": "stream",
     "text": [
      "[[1.         0.81145744]\n",
      " [0.81145744 1.        ]]\n"
     ]
    },
    {
     "name": "stderr",
     "output_type": "stream",
     "text": [
      "C:\\Users\\husiw\\Anaconda3\\lib\\site-packages\\ipykernel_launcher.py:9: FutureWarning: 'pandas.tools.plotting.scatter_matrix' is deprecated, import 'pandas.plotting.scatter_matrix' instead.\n",
      "  if __name__ == '__main__':\n"
     ]
    },
    {
     "data": {
      "image/png": "[encoded data removed]",
      "text/plain": [
       "<Figure size 576x576 with 9 Axes>"
      ]
     },
     "metadata": {},
     "output_type": "display_data"
    }
   ],
   "source": [
    "#part(b)\n",
    "from numpy import corrcoef\n",
    "print(corrcoef(a1,a2))\n",
    "\n",
    "df = pd.DataFrame(np.column_stack((b,a1,a2)), columns=['b','a1','a2'] )\n",
    "df.head()\n",
    "\n",
    "\n",
    "scatter_matrix(df, figsize = (8,8),alpha=1);"
   ]
  },
  {
   "cell_type": "code",
   "execution_count": 27,
   "metadata": {},
   "outputs": [
    {
     "name": "stdout",
     "output_type": "stream",
     "text": [
      "                            OLS Regression Results                            \n",
      "==============================================================================\n",
      "Dep. Variable:                      b   R-squared:                       0.335\n",
      "Model:                            OLS   Adj. R-squared:                  0.322\n",
      "Method:                 Least Squares   F-statistic:                     24.47\n",
      "Date:                Thu, 31 Jan 2019   Prob (F-statistic):           2.48e-09\n",
      "Time:                        14:16:26   Log-Likelihood:                -137.23\n",
      "No. Observations:                 100   AIC:                             280.5\n",
      "Df Residuals:                      97   BIC:                             288.3\n",
      "Df Model:                           2                                         \n",
      "Covariance Type:            nonrobust                                         \n",
      "==============================================================================\n",
      "                 coef    std err          t      P>|t|      [0.025      0.975]\n",
      "------------------------------------------------------------------------------\n",
      "Intercept      1.7199      0.195      8.817      0.000       1.333       2.107\n",
      "a1             1.8561      0.624      2.975      0.004       0.618       3.095\n",
      "a2             1.1244      0.874      1.287      0.201      -0.610       2.859\n",
      "==============================================================================\n",
      "Omnibus:                        0.358   Durbin-Watson:                   1.843\n",
      "Prob(Omnibus):                  0.836   Jarque-Bera (JB):                0.501\n",
      "Skew:                          -0.120   Prob(JB):                        0.778\n",
      "Kurtosis:                       2.749   Cond. No.                         12.1\n",
      "==============================================================================\n",
      "\n",
      "Warnings:\n",
      "[1] Standard Errors assume that the covariance matrix of the errors is correctly specified.\n",
      "Intercept    1.719888\n",
      "a1           1.856144\n",
      "a2           1.124409\n",
      "dtype: float64\n"
     ]
    }
   ],
   "source": [
    "#part(c)\n",
    "model12 = smf.ols(formula = 'b ~ a1 + a2', data = data2).fit()\n",
    "\n",
    "print(model12.summary())\n",
    "\n",
    "print(model12.params)"
   ]
  },
  {
   "cell_type": "markdown",
   "metadata": {},
   "source": [
    "\n",
    "The intercept $\\beta_0 = 1.72$ is significant and $\\beta_1$ is barely significant so we reject the hypothesis that $\\beta_0=0$ and the hypothesis that $\\beta_1=0$ but we can't reject the hypothesis that $\\beta_2 = 0$. Also notice the SE and confidence intervals for all three coeffecients are verly large."
   ]
  },
  {
   "cell_type": "code",
   "execution_count": 28,
   "metadata": {},
   "outputs": [
    {
     "name": "stdout",
     "output_type": "stream",
     "text": [
      "                            OLS Regression Results                            \n",
      "==============================================================================\n",
      "Dep. Variable:                      b   R-squared:                       0.324\n",
      "Model:                            OLS   Adj. R-squared:                  0.317\n",
      "Method:                 Least Squares   F-statistic:                     46.98\n",
      "Date:                Thu, 31 Jan 2019   Prob (F-statistic):           6.43e-10\n",
      "Time:                        14:16:26   Log-Likelihood:                -138.08\n",
      "No. Observations:                 100   AIC:                             280.2\n",
      "Df Residuals:                      98   BIC:                             285.4\n",
      "Df Model:                           1                                         \n",
      "Covariance Type:            nonrobust                                         \n",
      "==============================================================================\n",
      "                 coef    std err          t      P>|t|      [0.025      0.975]\n",
      "------------------------------------------------------------------------------\n",
      "Intercept      1.6908      0.194      8.698      0.000       1.305       2.077\n",
      "a1             2.5078      0.366      6.854      0.000       1.782       3.234\n",
      "==============================================================================\n",
      "Omnibus:                        0.247   Durbin-Watson:                   1.868\n",
      "Prob(Omnibus):                  0.884   Jarque-Bera (JB):                0.341\n",
      "Skew:                          -0.112   Prob(JB):                        0.843\n",
      "Kurtosis:                       2.823   Cond. No.                         4.61\n",
      "==============================================================================\n",
      "\n",
      "Warnings:\n",
      "[1] Standard Errors assume that the covariance matrix of the errors is correctly specified.\n",
      "                            OLS Regression Results                            \n",
      "==============================================================================\n",
      "Dep. Variable:                      b   R-squared:                       0.275\n",
      "Model:                            OLS   Adj. R-squared:                  0.267\n",
      "Method:                 Least Squares   F-statistic:                     37.12\n",
      "Date:                Thu, 31 Jan 2019   Prob (F-statistic):           2.18e-08\n",
      "Time:                        14:16:26   Log-Likelihood:                -141.60\n",
      "No. Observations:                 100   AIC:                             287.2\n",
      "Df Residuals:                      98   BIC:                             292.4\n",
      "Df Model:                           1                                         \n",
      "Covariance Type:            nonrobust                                         \n",
      "==============================================================================\n",
      "                 coef    std err          t      P>|t|      [0.025      0.975]\n",
      "------------------------------------------------------------------------------\n",
      "Intercept      2.0661      0.163     12.702      0.000       1.743       2.389\n",
      "a2             3.2334      0.531      6.093      0.000       2.180       4.286\n",
      "==============================================================================\n",
      "Omnibus:                        1.173   Durbin-Watson:                   1.787\n",
      "Prob(Omnibus):                  0.556   Jarque-Bera (JB):                1.095\n",
      "Skew:                          -0.093   Prob(JB):                        0.578\n",
      "Kurtosis:                       2.522   Cond. No.                         5.58\n",
      "==============================================================================\n",
      "\n",
      "Warnings:\n",
      "[1] Standard Errors assume that the covariance matrix of the errors is correctly specified.\n"
     ]
    }
   ],
   "source": [
    "# part(c)-(e)\n",
    "model13 = smf.ols(formula = 'b ~ a1', data = data2).fit()\n",
    "\n",
    "print(model13.summary())\n",
    "\n",
    "model14 = smf.ols(formula = 'b ~ a2', data = data2).fit()\n",
    "\n",
    "print(model14.summary())"
   ]
  },
  {
   "cell_type": "markdown",
   "metadata": {},
   "source": [
    "#### part(f)\n",
    "In model13, $b \\sim a_1$, we find that the coeffecient is close to the true value and is now very significant. In model14 $b \\sim a_2$, we find that the coeffecient for $a_2$ is now very significant. Note there is no contradiction here. $a_1$ and $a_2$ are strongly correlated and each is related to $b$ independent of each other."
   ]
  },
  {
   "cell_type": "code",
   "execution_count": 31,
   "metadata": {},
   "outputs": [
    {
     "name": "stdout",
     "output_type": "stream",
     "text": [
      "                            OLS Regression Results                            \n",
      "==============================================================================\n",
      "Dep. Variable:                      b   R-squared:                       0.403\n",
      "Model:                            OLS   Adj. R-squared:                  0.391\n",
      "Method:                 Least Squares   F-statistic:                     33.77\n",
      "Date:                Thu, 31 Jan 2019   Prob (F-statistic):           6.22e-12\n",
      "Time:                        14:16:26   Log-Likelihood:                -141.94\n",
      "No. Observations:                 103   AIC:                             289.9\n",
      "Df Residuals:                     100   BIC:                             297.8\n",
      "Df Model:                           2                                         \n",
      "Covariance Type:            nonrobust                                         \n",
      "==============================================================================\n",
      "                 coef    std err          t      P>|t|      [0.025      0.975]\n",
      "------------------------------------------------------------------------------\n",
      "const          1.6794      0.195      8.611      0.000       1.292       2.066\n",
      "a1             2.8495      0.384      7.423      0.000       2.088       3.611\n",
      "a2            -0.6217      0.104     -5.961      0.000      -0.829      -0.415\n",
      "==============================================================================\n",
      "Omnibus:                        0.198   Durbin-Watson:                   1.908\n",
      "Prob(Omnibus):                  0.906   Jarque-Bera (JB):                0.196\n",
      "Skew:                          -0.098   Prob(JB):                        0.907\n",
      "Kurtosis:                       2.913   Cond. No.                         5.70\n",
      "==============================================================================\n",
      "\n",
      "Warnings:\n",
      "[1] Standard Errors assume that the covariance matrix of the errors is correctly specified.\n"
     ]
    },
    {
     "data": {
      "image/png": "[encoded data removed]",
      "text/plain": [
       "<Figure size 1152x288 with 2 Axes>"
      ]
     },
     "metadata": {},
     "output_type": "display_data"
    }
   ],
   "source": [
    "df.loc[len(df)] = [0.1, 0.8, 6]\n",
    "\n",
    "A = sm.add_constant(df[['a1','a2']])\n",
    "model = sm.OLS(df.b, A)\n",
    "estimate = model.fit()\n",
    "\n",
    "print(estimate.summary())\n",
    "\n",
    "# Obtain the residuals, studentized residuals and the leverages\n",
    "fitted_values = estimate.fittedvalues.values\n",
    "residuals = estimate.resid.values\n",
    "studentized_residuals = OLSInfluence(estimate).resid_studentized_internal\n",
    "leverages = OLSInfluence(estimate).influence\n",
    "\n",
    "# Plot\n",
    "fig, (ax1,ax2) = plt.subplots(1,2,figsize=(16,4))\n",
    "\n",
    "# Studentized Residuals\n",
    "ax1.scatter(fitted_values[:-1], studentized_residuals[:-1], facecolors='none', edgecolors='b');\n",
    "# Plot the possible Outlier in red\n",
    "ax1.scatter(fitted_values[-1], studentized_residuals[-1], facecolors='none', edgecolors='r');\n",
    "ax1.set_xlabel('fitted values');\n",
    "ax1.set_ylabel('studentized residuals');\n",
    "\n",
    "# Leverages\n",
    "ax2.scatter(leverages[:-1], studentized_residuals[:-1], facecolors='none', edgecolors='b');\n",
    "# plot the possible high leverager in red\n",
    "ax2.scatter(leverages[-1], studentized_residuals[-1], facecolors='none', edgecolors='r');\n",
    "ax2.set_xlabel('Leverage');\n",
    "ax2.set_ylabel('studentized residual');"
   ]
  }
 ],
 "metadata": {
  "kernelspec": {
   "display_name": "Python 3",
   "language": "python",
   "name": "python3"
  },
  "language_info": {
   "codemirror_mode": {
    "name": "ipython",
    "version": 3
   },
   "file_extension": ".py",
   "mimetype": "text/x-python",
   "name": "python",
   "nbconvert_exporter": "python",
   "pygments_lexer": "ipython3",
   "version": "3.7.1"
  }
 },
 "nbformat": 4,
 "nbformat_minor": 2
}
